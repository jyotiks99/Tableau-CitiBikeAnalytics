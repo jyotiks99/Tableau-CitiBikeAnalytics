{
 "cells": [
  {
   "cell_type": "code",
   "execution_count": 1,
   "id": "9ad89952",
   "metadata": {},
   "outputs": [],
   "source": [
    "import pandas as pd\n",
    "import glob\n",
    "import os"
   ]
  },
  {
   "cell_type": "code",
   "execution_count": 6,
   "id": "202f6c46",
   "metadata": {},
   "outputs": [],
   "source": [
    "os.chdir(\"raw data\")"
   ]
  },
  {
   "cell_type": "code",
   "execution_count": 7,
   "id": "0aea0210",
   "metadata": {},
   "outputs": [],
   "source": [
    "extension = 'csv'\n",
    "all_filenames = [i for i in glob.glob('*.{}'.format(extension))]"
   ]
  },
  {
   "cell_type": "code",
   "execution_count": 8,
   "id": "a4ec412d",
   "metadata": {},
   "outputs": [
    {
     "data": {
      "text/plain": [
       "['2013-07 - Citi Bike trip data.csv',\n",
       " '2013-08 - Citi Bike trip data.csv',\n",
       " '2013-09 - Citi Bike trip data.csv',\n",
       " '2013-10 - Citi Bike trip data.csv',\n",
       " '2013-11 - Citi Bike trip data.csv',\n",
       " '2013-12 - Citi Bike trip data.csv']"
      ]
     },
     "execution_count": 8,
     "metadata": {},
     "output_type": "execute_result"
    }
   ],
   "source": [
    "all_filenames"
   ]
  },
  {
   "cell_type": "code",
   "execution_count": null,
   "id": "50d8d49b",
   "metadata": {},
   "outputs": [],
   "source": [
    "#combine all files in the list\n",
    "combined_csv = pd.concat([pd.read_csv(f, low_memory=False) for f in all_filenames ])\n",
    "#export to csv\n",
    "combined_csv.to_csv( \"07-12data.csv\", index=False, encoding='utf-8-sig')"
   ]
  }
 ],
 "metadata": {
  "kernelspec": {
   "display_name": "Python 3 (ipykernel)",
   "language": "python",
   "name": "python3"
  },
  "language_info": {
   "codemirror_mode": {
    "name": "ipython",
    "version": 3
   },
   "file_extension": ".py",
   "mimetype": "text/x-python",
   "name": "python",
   "nbconvert_exporter": "python",
   "pygments_lexer": "ipython3",
   "version": "3.8.10"
  }
 },
 "nbformat": 4,
 "nbformat_minor": 5
}
